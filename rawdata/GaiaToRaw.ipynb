{
 "cells": [
  {
   "cell_type": "markdown",
   "metadata": {},
   "source": [
    "# Importing Gaia data and formatting for Uniview\n",
    "\n",
    "*As of March 12, 2020 the astroquery.gaia TAP does NOT work*\n",
    "\n",
    "So I downloaded the data with RV measurements from here: http://cdn.gea.esac.esa.int/Gaia/gdr2/gaia_source_with_rv/csv/\n"
   ]
  },
  {
   "cell_type": "code",
   "execution_count": 10,
   "metadata": {},
   "outputs": [],
   "source": [
    "import astropy.units as u\n",
    "from astropy.coordinates import ICRS, Distance\n",
    "from astropy.coordinates.sky_coordinate import SkyCoord\n",
    "\n",
    "import numpy as np\n",
    "import pandas as pd"
   ]
  },
  {
   "cell_type": "code",
   "execution_count": 7,
   "metadata": {},
   "outputs": [
    {
     "name": "stdout",
     "output_type": "stream",
     "text": [
      "GaiaSource_2851858288640_1584379458008952960.csv\n",
      "GaiaSource_1584380076484244352_2200921635402776448.csv\n",
      "GaiaSource_2200921875920933120_3650804325670415744.csv\n",
      "GaiaSource_3650805523966057472_4475721411269270528.csv\n",
      "GaiaSource_4475722064104327936_5502601461277677696.csv\n",
      "GaiaSource_6714230465835878784_6917528443525529728.csv\n",
      "GaiaSource_5502601873595430784_5933051501826387072.csv\n"
     ]
    }
   ],
   "source": [
    "filelist = ['GaiaSource_2851858288640_1584379458008952960.csv',\n",
    "            'GaiaSource_1584380076484244352_2200921635402776448.csv',\n",
    "            'GaiaSource_2200921875920933120_3650804325670415744.csv',\n",
    "            'GaiaSource_3650805523966057472_4475721411269270528.csv',\n",
    "            'GaiaSource_4475722064104327936_5502601461277677696.csv',\n",
    "            'GaiaSource_6714230465835878784_6917528443525529728.csv',\n",
    "            'GaiaSource_5502601873595430784_5933051501826387072.csv']\n",
    "ra = []\n",
    "dec = []\n",
    "parallax = []\n",
    "pmra = []\n",
    "pmdec = []\n",
    "radial_velocity = []\n",
    "teff = []\n",
    "gmag = []\n",
    "#also have column for flag for star types\n",
    "for i, file in enumerate(filelist):\n",
    "    print(file)\n",
    "    d = pd.read_csv(file)\n",
    "    ra.extend(d['ra'].values)\n",
    "    dec.extend(d['dec'].values)\n",
    "    parallax.extend(d['parallax'].values)\n",
    "    pmra.extend(d['pmra'].values)\n",
    "    pmdec.extend(d['pmdec'].values)\n",
    "    radial_velocity.extend(d['radial_velocity'].values)\n",
    "    teff.extend(d['teff_val'].values)\n",
    "    gmag.extend(d['phot_g_mean_mag'].values)"
   ]
  },
  {
   "cell_type": "code",
   "execution_count": 8,
   "metadata": {},
   "outputs": [],
   "source": [
    "#convert to numpy arrays\n",
    "ra = np.array(ra)\n",
    "dec = np.array(dec)\n",
    "parallax = np.array(parallax)\n",
    "pmra = np.array(pmra)\n",
    "pmdec = np.array(pmdec)\n",
    "radial_velocity = np.array(radial_velocity)\n",
    "teff = np.array(teff)\n",
    "gmag = np.array(gmag)"
   ]
  },
  {
   "cell_type": "markdown",
   "metadata": {},
   "source": [
    "### Convert these ra, dec, parallax coordinates to 3D cartesian"
   ]
  },
  {
   "cell_type": "code",
   "execution_count": 17,
   "metadata": {},
   "outputs": [
    {
     "name": "stdout",
     "output_type": "stream",
     "text": [
      "[( 269.38407612,   270.6295352 ,  9.18710930e-01),\n",
      " ( 405.43557556,   406.25961987,  1.27625851e+00),\n",
      " ( 124.13530814,   124.28418234,  7.21671565e-01), ...,\n",
      " (-528.17667664, -1053.87212127, -1.57007818e+03),\n",
      " (-848.39362534, -1692.04421689, -2.52007171e+03),\n",
      " (-676.93760028, -1353.1806852 , -2.01261360e+03)] pc\n",
      "[( 17.68034972, 30.03302423,  34.09434331),\n",
      " ( -9.03826025, 15.59072114, -35.20460752),\n",
      " (-22.19402271, 31.25006863,  -5.38147725), ...,\n",
      " ( 14.08570307, 82.51525053,  28.47311102),\n",
      " (-15.5730583 , 25.36941381, -27.84399477),\n",
      " (  2.69895394, 41.68614988,  34.34951455)] km / s\n"
     ]
    }
   ],
   "source": [
    "#what about the negative parallax values?\n",
    "dist = Distance(parallax=np.abs(parallax)*u.mas).to(u.parsec)\n",
    "\n",
    "\n",
    "#NOTE: without RVs, the velocities are not correct\n",
    "astroC = ICRS(ra = ra*u.deg, \n",
    "              dec = dec*u.deg, \n",
    "              distance = dist, \n",
    "              pm_ra_cosdec = pmra*u.mas/u.yr, \n",
    "              pm_dec = pmdec*u.mas/u.yr, \n",
    "              radial_velocity = radial_velocity* u.km/u.s )\n",
    "\n",
    "print(astroC.cartesian)\n",
    "print(astroC.velocity)"
   ]
  },
  {
   "cell_type": "markdown",
   "metadata": {},
   "source": [
    "### What should I use as a flag?"
   ]
  },
  {
   "cell_type": "code",
   "execution_count": 19,
   "metadata": {},
   "outputs": [],
   "source": [
    "#will want to fill this in\n",
    "flag = np.zeros_like(ra)"
   ]
  },
  {
   "cell_type": "markdown",
   "metadata": {},
   "source": [
    "### Now put these in the \"raw\" format"
   ]
  },
  {
   "cell_type": "code",
   "execution_count": null,
   "metadata": {},
   "outputs": [],
   "source": [
    "p = astroC.cartesian\n",
    "v = astroC.velocity\n",
    "\n",
    "x = p.x.to(u.pc).value\n",
    "y = p.y.to(u.pc).value\n",
    "z = p.z.to(u.pc).value\n",
    "\n",
    "vx = v.d_x.to(u.km/u.s).value\n",
    "vy = v.d_y.to(u.km/u.s).value\n",
    "vz = v.d_z.to(u.km/u.s).value\n",
    "\n",
    "\n",
    "\n",
    "dct = {'x':x,'y':y,'z':z,'vx':vx,'vy':vy,'vz':vz,'teff':teff,'gmag':gmag,'flag':flag}\n",
    "df = pd.DataFrame(df) "
   ]
  },
  {
   "cell_type": "code",
   "execution_count": 20,
   "metadata": {
    "scrolled": false
   },
   "outputs": [],
   "source": [
    "df.to_csv('GaiaRVsample.raw', index=False, sep=' ', header=False)"
   ]
  },
  {
   "cell_type": "markdown",
   "metadata": {},
   "source": []
  },
  {
   "cell_type": "code",
   "execution_count": null,
   "metadata": {},
   "outputs": [],
   "source": []
  }
 ],
 "metadata": {
  "anaconda-cloud": {},
  "kernelspec": {
   "display_name": "Python 3",
   "language": "python",
   "name": "python3"
  },
  "language_info": {
   "codemirror_mode": {
    "name": "ipython",
    "version": 3
   },
   "file_extension": ".py",
   "mimetype": "text/x-python",
   "name": "python",
   "nbconvert_exporter": "python",
   "pygments_lexer": "ipython3",
   "version": "3.7.3"
  }
 },
 "nbformat": 4,
 "nbformat_minor": 1
}
